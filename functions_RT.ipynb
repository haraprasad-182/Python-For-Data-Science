{
  "nbformat": 4,
  "nbformat_minor": 0,
  "metadata": {
    "colab": {
      "provenance": []
    },
    "kernelspec": {
      "name": "python3",
      "display_name": "Python 3"
    },
    "language_info": {
      "name": "python"
    }
  },
  "cells": [
    {
      "cell_type": "code",
      "execution_count": null,
      "metadata": {
        "colab": {
          "base_uri": "https://localhost:8080/"
        },
        "id": "1osChC-w5hd9",
        "outputId": "1914fb06-9b33-431c-80a9-f5a70220e8d5"
      },
      "outputs": [
        {
          "output_type": "stream",
          "name": "stdout",
          "text": [
            "enter first number4\n",
            "enter second number3\n",
            "enter third number8\n",
            "8\n",
            "the greatest numbe is 8\n"
          ]
        }
      ],
      "source": [
        "## find dgreatest of 3 numbers 1\n",
        "def find_greatest(a,b,c):\n",
        "    if a>b and a>c:\n",
        "        return a\n",
        "    elif b>a and b>c:\n",
        "        return b\n",
        "    else:\n",
        "        return c\n",
        "x=int(input(\"enter first number\"))\n",
        "y=int(input(\"enter second number\"))\n",
        "z=int(input(\"enter third number\"))\n",
        "print(find_greatest(x,y,z))\n",
        "print('the greatest numbe is',find_greatest(x,y,z))"
      ]
    },
    {
      "cell_type": "code",
      "source": [
        "## to calculate time 2\n",
        "import time"
      ],
      "metadata": {
        "id": "1I_7ZImK5iia"
      },
      "execution_count": null,
      "outputs": []
    },
    {
      "cell_type": "code",
      "source": [
        "## question 4\n",
        "## of syntax  lambda is\n",
        "product = lambda a,b:a*b\n",
        "a=int(input(\"enter a number\"))\n",
        "b=int(input(\"enter a number\"))\n",
        "print(product(a,b))"
      ],
      "metadata": {
        "colab": {
          "base_uri": "https://localhost:8080/"
        },
        "id": "rantfnGh5ifB",
        "outputId": "27a00d0e-8653-46c5-e98d-1f4102deb6a1"
      },
      "execution_count": null,
      "outputs": [
        {
          "output_type": "stream",
          "name": "stdout",
          "text": [
            "enter a number5\n",
            "enter a number6\n",
            "30\n"
          ]
        }
      ]
    },
    {
      "cell_type": "code",
      "source": [
        "## question 3\n",
        "## return absolute value (if num is nagetive then mul by -1)\n",
        "def absolute_value(n):\n",
        "  if n>=0:\n",
        "   return n\n",
        "  else:\n",
        "   return -n\n",
        "num=int(input(\"enter value\"))\n",
        "print(\"absolute value is\",absolute_value(num))\n",
        "\n",
        "\n"
      ],
      "metadata": {
        "colab": {
          "base_uri": "https://localhost:8080/"
        },
        "id": "ih-Gd0n15icz",
        "outputId": "cd932f49-fb01-4012-8336-7938bb112d2a"
      },
      "execution_count": null,
      "outputs": [
        {
          "output_type": "stream",
          "name": "stdout",
          "text": [
            "enter value-7\n",
            "absolute value is 7\n"
          ]
        }
      ]
    },
    {
      "cell_type": "code",
      "source": [
        "## question 5\n",
        "## prog that passes lambda function as an argument to another function to cal cube of a num\n",
        "def apply_function(func, num):\n",
        "  return func(num)\n",
        "\n",
        "cube = lambda x: x**3\n",
        "\n",
        "number = int(input(\"Enter a number: \"))\n",
        "result = apply_function(cube, number)\n",
        "print(\"The cube of\", number, \"is\", result)"
      ],
      "metadata": {
        "colab": {
          "base_uri": "https://localhost:8080/"
        },
        "id": "jgdP11ER5iX0",
        "outputId": "d76210b3-9786-43f7-bd07-966092985fee"
      },
      "execution_count": null,
      "outputs": [
        {
          "output_type": "stream",
          "name": "stdout",
          "text": [
            "Enter a number: 5\n",
            "The cube of 5 is 125\n"
          ]
        }
      ]
    },
    {
      "cell_type": "code",
      "source": [
        "## question 6 check prime\n",
        "def is_prime(n):\n",
        " if n<=1:\n",
        "    return 0\n",
        " for i in range(2,int(n**0.5)+1):\n",
        "  if n%i==0:\n",
        "    return 0\n",
        " return 1\n",
        "\n",
        "num=int(input(\"enter a number\"))\n",
        "if is_prime(num):\n",
        "  print(num,\"is a prime number\")\n",
        "else:\n",
        "  print(num,\"is not a prime number\")"
      ],
      "metadata": {
        "colab": {
          "base_uri": "https://localhost:8080/"
        },
        "id": "T-TQwvO45iVe",
        "outputId": "c65bfc57-8bd9-4500-ee04-5711351dd427"
      },
      "execution_count": null,
      "outputs": [
        {
          "output_type": "stream",
          "name": "stdout",
          "text": [
            "enter a number2\n",
            "2 is a prime number\n"
          ]
        }
      ]
    },
    {
      "cell_type": "code",
      "source": [
        "## question 7\n",
        "## program to accept an integer and display its month in that year\n",
        "def is_name(month):\n",
        "  months=[\"jan\",\"feb\",\"march\",\"april\",\"may\",\"june\",\"july\",\"august\",\"sept\",\"oct\",\"nov\",\"dec\"]\n",
        "  if 1 <= month <= 12:\n",
        "    return months[month-1]\n",
        "  else:\n",
        "    return \"invalid month\"\n",
        "\n",
        "month = int(input(\"Enter a month number (1-12): \"))\n",
        "month_name = is_name(month)\n",
        "print(month_name)"
      ],
      "metadata": {
        "colab": {
          "base_uri": "https://localhost:8080/"
        },
        "id": "VhWPF11R5iS_",
        "outputId": "a244025a-38c3-4e1b-a041-2f213f0bc23c"
      },
      "execution_count": null,
      "outputs": [
        {
          "output_type": "stream",
          "name": "stdout",
          "text": [
            "Enter a month number (1-12): 7\n",
            "july\n"
          ]
        }
      ]
    },
    {
      "cell_type": "code",
      "source": [
        "## question 8\n",
        "## check leap year using functions\n",
        "def is_leap(n):\n",
        "  if n%4==0:\n",
        "    return True\n",
        "  else:\n",
        "    return False\n",
        "year=int(input(\"enter a year\"))\n",
        "if is_leap(year):\n",
        "  print(year,\"is a leap year\")\n",
        "else:\n",
        "  print(year,\"is not a leap year\")\n",
        "\n"
      ],
      "metadata": {
        "colab": {
          "base_uri": "https://localhost:8080/"
        },
        "id": "bkPXkhtc5iQs",
        "outputId": "55d4f203-517f-4736-cbdd-35536225028c"
      },
      "execution_count": null,
      "outputs": [
        {
          "output_type": "stream",
          "name": "stdout",
          "text": [
            "enter a year5635\n",
            "5635 is not a leap year\n"
          ]
        }
      ]
    },
    {
      "cell_type": "code",
      "source": [
        "## question 9\n",
        "## concatinate 2 string using recursion\n"
      ],
      "metadata": {
        "id": "qxpq5srM5iOi"
      },
      "execution_count": null,
      "outputs": []
    },
    {
      "cell_type": "code",
      "source": [
        "## question 10\n",
        "## reverse a numbe rusi ng recursion\n",
        "def reverse_num(n):\n",
        "  if n<10:\n",
        "    return n\n",
        "  else:\n",
        "    return int(str(n%10)+str(reverse_num(n//10)))\n",
        "num=int(input(\"enter integer\"))\n",
        "print(\"reverse of\",num,\"is\",reverse_num(num))\n"
      ],
      "metadata": {
        "id": "teKylFJb_Xbs",
        "colab": {
          "base_uri": "https://localhost:8080/"
        },
        "outputId": "202bc51d-3495-4afb-c058-de7d09c4c754"
      },
      "execution_count": null,
      "outputs": [
        {
          "output_type": "stream",
          "name": "stdout",
          "text": [
            "enter integer1234\n",
            "reverse of 1234 is 4321\n"
          ]
        }
      ]
    },
    {
      "cell_type": "code",
      "source": [
        "## question 11\n",
        "## swap two variables that are defined as global variables\n",
        "a=10\n",
        "b=20\n",
        "def swap():\n",
        "  global a,b\n",
        "  a,b = b,a\n",
        "print(\"before swaping\")\n",
        "print(a)\n",
        "print(b)\n",
        "swap()\n",
        "print(\"after swaping\")\n",
        "print(a)\n",
        "print(b)\n"
      ],
      "metadata": {
        "id": "mpWpePXC_XYF",
        "colab": {
          "base_uri": "https://localhost:8080/"
        },
        "outputId": "971c2c0a-704b-4f58-b3ba-0bd6664743a2"
      },
      "execution_count": null,
      "outputs": [
        {
          "output_type": "stream",
          "name": "stdout",
          "text": [
            "before swaping\n",
            "10\n",
            "20\n",
            "after swaping\n",
            "20\n",
            "10\n"
          ]
        }
      ]
    },
    {
      "cell_type": "code",
      "source": [
        "## question 12\n",
        "##"
      ],
      "metadata": {
        "id": "RwQenMS6_XVE"
      },
      "execution_count": null,
      "outputs": []
    },
    {
      "cell_type": "code",
      "source": [
        "## question 13\n",
        "##"
      ],
      "metadata": {
        "id": "rA-wEXAM_XSS"
      },
      "execution_count": null,
      "outputs": []
    },
    {
      "cell_type": "code",
      "source": [
        "## question 14\n",
        "## compute lambda of n reccursively\n",
        "def lamda(n):\n",
        "  if n<1:\n",
        "    return 1\n",
        "  return lamda(n/2)+1\n",
        "\n",
        "n=int(input(\"enter n\"))\n",
        "print(lamda(n))\n"
      ],
      "metadata": {
        "id": "4ZlUUMU-_XQC",
        "colab": {
          "base_uri": "https://localhost:8080/"
        },
        "outputId": "2f0451c4-2ab0-4feb-b5b9-4d0b0245dadc"
      },
      "execution_count": null,
      "outputs": [
        {
          "output_type": "stream",
          "name": "stdout",
          "text": [
            "enter n6\n",
            "4\n"
          ]
        }
      ]
    },
    {
      "cell_type": "code",
      "source": [
        "## question 15\n",
        "## f(m,n) reccursively"
      ],
      "metadata": {
        "id": "GMFis6wF_XNI"
      },
      "execution_count": null,
      "outputs": []
    },
    {
      "cell_type": "code",
      "source": [
        "## question 16\n",
        "## menu driven calculator\n",
        "def add(x,y):\n",
        "  return x+y\n",
        "def substract(x,y):\n",
        "  return x-y\n",
        "def multiply(x,y):\n",
        "  return x*y\n",
        "def divide(x,y):\n",
        "  return x/y\n",
        "\n",
        "print(\"select operation\")\n",
        "print(\"1.add\")\n",
        "print(\"2.substract\")\n",
        "print(\"3.multiply\")\n",
        "print(\"4.divide\")\n",
        "choice=int(input(\"enter choice\"))\n",
        "num1=int(input(\"enter first number\"))\n",
        "num2=int(input(\"enter second number\"))\n",
        "if choice==1:\n",
        "  print(num1,\"+\",num2,\"=\",add(num1,num2))\n",
        "elif choice==2:\n",
        "  print(num1,\"-\",num2,\"=\",substract(num1,num2))\n",
        "elif choice==3:\n",
        "  print(num1,\"*\",num2,\"=\",multiply(num1,num2))\n",
        "elif choice==4:\n",
        "  print(num1,\"/\",num2,\"=\",divide(num1,num2))\n",
        "else:\n",
        "  print(\"invalid choice\")\n",
        "\n",
        "\n",
        "\n"
      ],
      "metadata": {
        "id": "FhCcCD08_XKA",
        "colab": {
          "base_uri": "https://localhost:8080/"
        },
        "outputId": "a663e90c-25cb-487c-9656-5d61cf6bc78f"
      },
      "execution_count": null,
      "outputs": [
        {
          "output_type": "stream",
          "name": "stdout",
          "text": [
            "select operation\n",
            "1.add\n",
            "2.substract\n",
            "3.multiply\n",
            "4.divide\n",
            "enter choice1\n",
            "enter first number4\n",
            "enter second number5\n",
            "4 + 5 = 9\n"
          ]
        }
      ]
    },
    {
      "cell_type": "code",
      "source": [
        "## question 17\n",
        "## find hypotenuse of a right angked triangle\n",
        "def hypotenous(x,y):\n",
        "  return (x**2+y**2)**0.5\n",
        "x=int(input(\"enter first side\"))\n",
        "y=int(input(\"enter second side\"))\n",
        "print(\"hypotenous is\",hypotenous(x,y))"
      ],
      "metadata": {
        "id": "qRusnjruG7OT",
        "colab": {
          "base_uri": "https://localhost:8080/"
        },
        "outputId": "cdec119c-f5e9-47be-f0a4-d4135bc0e696"
      },
      "execution_count": null,
      "outputs": [
        {
          "output_type": "stream",
          "name": "stdout",
          "text": [
            "enter first side4\n",
            "enter second side5\n",
            "hypotenous is 6.4031242374328485\n"
          ]
        }
      ]
    },
    {
      "cell_type": "code",
      "source": [
        "## question 18\n",
        "## average of numbers fro 1 to n\n",
        "def average(n):\n",
        "  sum=0\n",
        "  for i in range(1,n+1):\n",
        "   sum+=i\n",
        "  return sum/n\n",
        "\n",
        "n=int(input(\"enter n\"))\n",
        "print(\"average is\",average(n))"
      ],
      "metadata": {
        "id": "zQC242awG7If",
        "colab": {
          "base_uri": "https://localhost:8080/"
        },
        "outputId": "18ae581e-9119-4522-95e6-d0b471ce5975"
      },
      "execution_count": null,
      "outputs": [
        {
          "output_type": "stream",
          "name": "stdout",
          "text": [
            "enter n6\n",
            "average is 3.5\n"
          ]
        }
      ]
    },
    {
      "cell_type": "code",
      "source": [
        "## question 19\n",
        "## biggest of 3 numbers\n",
        "def biggest(a,b,c):\n",
        "  if a>b and a>c:\n",
        "    return a\n",
        "  elif b>a and b>c:\n",
        "    return b\n",
        "  else:\n",
        "    return c\n",
        "x=int(input(\"enter first number\"))\n",
        "y=int(input(\"enter second number\"))\n",
        "z=int(input(\"enter third number\"))\n",
        "print(\"the biggets of 3 is\", biggest(x,y,z))\n",
        "\n",
        "\n",
        "\n",
        "\n"
      ],
      "metadata": {
        "id": "MZQ92kxFG7GO",
        "colab": {
          "base_uri": "https://localhost:8080/"
        },
        "outputId": "58ba519c-631b-4100-b927-83cfe9270c3e"
      },
      "execution_count": null,
      "outputs": [
        {
          "output_type": "stream",
          "name": "stdout",
          "text": [
            "enter first number4\n",
            "enter second number5\n",
            "enter third number7\n",
            "the biggets of 3 is 7\n"
          ]
        }
      ]
    },
    {
      "cell_type": "code",
      "source": [
        "## question 20\n",
        "## area of triangle\n",
        "def area(b,h):\n",
        "  return 0.5*b*h\n",
        "b=int(input(\"enter base\"))\n",
        "h=int(input(\"enter height\"))\n",
        "print(\"area is\",area(b,h))\n",
        "\n"
      ],
      "metadata": {
        "id": "SHGbYD2qG7EN",
        "colab": {
          "base_uri": "https://localhost:8080/"
        },
        "outputId": "f22fd4bc-7418-4406-d4f2-47cd9414f8bb"
      },
      "execution_count": null,
      "outputs": [
        {
          "output_type": "stream",
          "name": "stdout",
          "text": [
            "enter base5\n",
            "enter height6\n",
            "area is 15.0\n"
          ]
        }
      ]
    },
    {
      "cell_type": "code",
      "source": [
        "## question 21\n",
        "## cal x to the power of y where y can be pos or nagetiv\n",
        "def power(x,y):\n",
        " return x**y\n",
        "x=float(input(\"enter x\"))\n",
        "y=float(input(\"enter y\"))\n",
        "print(\"x to the power y is\",power(x,y))\n",
        "\n",
        "\n",
        "\n",
        "\n",
        "\n"
      ],
      "metadata": {
        "id": "N5uTffFUG7CY",
        "colab": {
          "base_uri": "https://localhost:8080/"
        },
        "outputId": "82fb7b40-0c7a-4823-8c0b-6930fad78db4"
      },
      "execution_count": null,
      "outputs": [
        {
          "output_type": "stream",
          "name": "stdout",
          "text": [
            "enter x3\n",
            "enter y-1\n",
            "x to the power y is 0.3333333333333333\n"
          ]
        }
      ]
    },
    {
      "cell_type": "code",
      "source": [
        "## question 22\n",
        "## calculate compound intrest\n",
        "def ci(p,r,t):\n",
        "  return p*(1+r/100)**t\n",
        "p=float(input(\"enter principal\"))\n",
        "r=float(input(\"enter rate\"))\n",
        "t=float(input(\"enter time\"))\n",
        "\n",
        "print(\"the ci is \",ci(p,r,t))"
      ],
      "metadata": {
        "id": "w02d32FhG7AX",
        "colab": {
          "base_uri": "https://localhost:8080/"
        },
        "outputId": "83406901-4acb-4212-d9c4-220cd95efb27"
      },
      "execution_count": null,
      "outputs": [
        {
          "output_type": "stream",
          "name": "stdout",
          "text": [
            "enter principal356\n",
            "enter rate2\n",
            "enter time4\n",
            "the ci is  385.34584896\n"
          ]
        }
      ]
    },
    {
      "cell_type": "code",
      "source": [
        "## question 23\n",
        "## zrea and volume  of a sphere\n",
        "def area(r):\n",
        "  return 4*3.14*r*r\n",
        "def volume(r):\n",
        "  return 4/3*3.14*r*r*r\n",
        "r=float(input(\"enter radius\"))\n",
        "print(\"area is\",area(r))\n",
        "print(\"volume is\",volume(r))"
      ],
      "metadata": {
        "id": "K-ptmhXrG6-f",
        "colab": {
          "base_uri": "https://localhost:8080/"
        },
        "outputId": "cad5e2ba-a968-4262-c6ac-1043f285eea0"
      },
      "execution_count": null,
      "outputs": [
        {
          "output_type": "stream",
          "name": "stdout",
          "text": [
            "enter radius7\n",
            "area is 615.44\n",
            "volume is 1436.0266666666666\n"
          ]
        }
      ]
    },
    {
      "cell_type": "code",
      "source": [
        "## question 24\n",
        "## reverse a string with using recursion\n",
        "def reverse(s):\n",
        "  if len(s)==0:\n",
        "    return s\n",
        "  else:\n",
        "    return reverse(s[1:])+s[0]\n",
        "s=input(\"enter string\")\n",
        "print(\"reverse is\",reverse(s))\n"
      ],
      "metadata": {
        "id": "GZ9DJSXlG68b",
        "colab": {
          "base_uri": "https://localhost:8080/"
        },
        "outputId": "3a7a2c9b-b79a-45ea-d6d5-c62b96f2b3d9"
      },
      "execution_count": null,
      "outputs": [
        {
          "output_type": "stream",
          "name": "stdout",
          "text": [
            "enter stringhara\n",
            "reverse is arah\n"
          ]
        }
      ]
    },
    {
      "cell_type": "code",
      "source": [
        "## question 25\n",
        "## reverse a string without using recursion\n",
        "s=\"hara\"\n",
        "reverse= s[::-1]\n",
        "print(reverse)\n",
        "\n",
        "##\n",
        "# s=\"hara\"\n",
        "# reverse=\"\"\n",
        "# for i in range(len(s)-1,-1,-1):\n",
        "#   reverse+=s[i]\n",
        "# print(reverse)\n"
      ],
      "metadata": {
        "id": "moSKAYp2G66Z",
        "colab": {
          "base_uri": "https://localhost:8080/"
        },
        "outputId": "06b417cf-a967-4703-d34a-63c98d5cd821"
      },
      "execution_count": null,
      "outputs": [
        {
          "output_type": "stream",
          "name": "stdout",
          "text": [
            "arah\n"
          ]
        }
      ]
    },
    {
      "cell_type": "code",
      "source": [
        "## question 26\n",
        "## reverse a string with using recursion\n",
        "def reverse(s):\n",
        "  if len(s)==0:\n",
        "    return s\n",
        "  else:\n",
        "    return reverse(s[1:])+s[0]\n",
        "s=input(\"enter string\")\n",
        "print(\"reverse is\",reverse(s))"
      ],
      "metadata": {
        "id": "jDJj4BZdG631",
        "colab": {
          "base_uri": "https://localhost:8080/"
        },
        "outputId": "1895f497-96da-4059-967d-6882097bd058"
      },
      "execution_count": null,
      "outputs": [
        {
          "output_type": "stream",
          "name": "stdout",
          "text": [
            "enter stringhara\n",
            "reverse is arah\n"
          ]
        }
      ]
    },
    {
      "cell_type": "code",
      "source": [
        "## question 27\n",
        "## program to calc the exp of x and y with recursion\n",
        "def exp(x,y):\n",
        "  if y==0:\n",
        "    return 1\n",
        "  elif y>0:\n",
        "    return x*exp(x,y-1)\n",
        "  else:\n",
        "    return 1/x*exp(x,y+1)\n",
        "x=float(input(\"enter x\"))\n",
        "y=float(input(\"enter y\"))\n",
        "print(\"x to the power y is\",exp(x,y))"
      ],
      "metadata": {
        "id": "Fn6Qk_OrG61p",
        "colab": {
          "base_uri": "https://localhost:8080/"
        },
        "outputId": "007349f0-6543-4474-fe30-0847b62db373"
      },
      "execution_count": null,
      "outputs": [
        {
          "output_type": "stream",
          "name": "stdout",
          "text": [
            "enter x6\n",
            "enter y2\n",
            "x to the power y is 36.0\n"
          ]
        }
      ]
    },
    {
      "cell_type": "code",
      "source": [
        "## quesstion 28\n",
        "## perogram to calculate the exponent of x and y without recursion\n",
        "x=float(input(\"enter x\"))\n",
        "y=float(input(\"enter y\"))\n",
        "result=1\n",
        "for i in range(int(abs(y))):\n",
        "  result*=x\n",
        "if y<0:\n",
        "  result=1/result\n",
        "print(\"x to the power y is\",result)"
      ],
      "metadata": {
        "id": "LTxUrJziG6zW"
      },
      "execution_count": null,
      "outputs": []
    },
    {
      "cell_type": "code",
      "source": [
        "## question 29\n",
        "## fibonacci series using recursion\n",
        "def fibonacci(n):\n",
        "  if n<=1:\n",
        "   return n\n",
        "  return fibonacci(n-1)+fibonacci(n-2)\n",
        "term=int(input(\"enter the terms\"))\n",
        "for i in range(term):\n",
        "  print(fibonacci(i),end='')"
      ],
      "metadata": {
        "id": "YvxDS6v6G6xB",
        "colab": {
          "base_uri": "https://localhost:8080/"
        },
        "outputId": "41589728-3501-4e4a-9689-ac1ca89b0481"
      },
      "execution_count": null,
      "outputs": [
        {
          "output_type": "stream",
          "name": "stdout",
          "text": [
            "enter the terms9\n",
            "01123581321"
          ]
        }
      ]
    },
    {
      "cell_type": "code",
      "source": [
        "## question 30\n",
        "## fibonacci without recursion\n",
        "term=int(input(\"enter the terms\"))\n",
        "a,b=0,1\n",
        "for i in range (term):\n",
        "  print(a,end=' ') # Added a space for better readability\n",
        "  a,b=b,a+b"
      ],
      "metadata": {
        "id": "qzTaMTOrG6uq",
        "colab": {
          "base_uri": "https://localhost:8080/"
        },
        "outputId": "0d192352-f933-49c4-90d7-0a7a8c66dacd"
      },
      "execution_count": null,
      "outputs": [
        {
          "output_type": "stream",
          "name": "stdout",
          "text": [
            "enter the terms8\n",
            "0 1 1 2 3 5 8 13 "
          ]
        }
      ]
    },
    {
      "cell_type": "code",
      "source": [
        "## quedstion 31\n",
        "## temp in celsius to fahrenheit\n",
        "def celsius_to_fahrenheit(celsius):\n",
        "  fahrenheit=(celsius*9/5)+32\n",
        "  return fahrenheit\n",
        "\n",
        "  celsius=float(input(\"enter temperature in celsius\"))\n",
        "  fahrenheit=celsius_to_fahrenheit(celsius)\n",
        "  print(f\"{celsius} degrees celsius is equal to {fahrenheit} degrees fahrenheit\")"
      ],
      "metadata": {
        "id": "b-yoM9mTG6sQ"
      },
      "execution_count": null,
      "outputs": []
    },
    {
      "cell_type": "code",
      "source": [
        "## question 32\n",
        "## draw the pattern using function\n",
        "def draw_pattern(width, height):\n",
        "  \"\"\"Draws a rectangular pattern with a border.\"\"\"\n",
        "  if width < 2 or height < 2:\n",
        "    print(\"Width and height must be at least 2.\")\n",
        "    return\n",
        "\n",
        "  # Top border\n",
        "  print(\"*\" * width)\n",
        "\n",
        "  # Middle rows\n",
        "  for _ in range(height - 2):\n",
        "    print(\"!\" + \" \" * (width - 2) + \"!\")\n",
        "\n",
        "  # Bottom border\n",
        "  print(\"*\" * width)\n",
        "\n",
        "# Example usage:\n",
        "draw_pattern(10, 6)"
      ],
      "metadata": {
        "id": "BlcVyV-ZG6p_",
        "colab": {
          "base_uri": "https://localhost:8080/"
        },
        "outputId": "fc2b4b0d-8665-45c5-c116-933202415a35"
      },
      "execution_count": null,
      "outputs": [
        {
          "output_type": "stream",
          "name": "stdout",
          "text": [
            "**********\n",
            "!        !\n",
            "!        !\n",
            "!        !\n",
            "!        !\n",
            "**********\n"
          ]
        }
      ]
    },
    {
      "cell_type": "code",
      "source": [
        "## question 32\n",
        "## print binomial coefficients"
      ],
      "metadata": {
        "id": "Ok8VrFFwG6nU"
      },
      "execution_count": null,
      "outputs": []
    },
    {
      "cell_type": "code",
      "source": [
        "## question 33\n",
        "## program to print the  status inptt(\"enter (s/m/d/u))\")\n",
        "def status(code):\n",
        "  code=code.upper()\n",
        "  if code==\"s\":\n",
        "    return \"single\"\n",
        "  elif code==\"M\":\n",
        "    return \"married\"\n",
        "  elif code==\"D\":\n",
        "    return \"divorced\"\n",
        "  elif code==\"U\":\n",
        "    return \"unmarried\"\n",
        "  else:\n",
        "    return \"invalid code\"\n",
        "code=input(\"enter code \")\n",
        "print(status(code))\n",
        "\n"
      ],
      "metadata": {
        "id": "Nme50CCzG6lE",
        "colab": {
          "base_uri": "https://localhost:8080/"
        },
        "outputId": "65a781ce-9a61-478e-b016-2c8ceb40a0a4"
      },
      "execution_count": null,
      "outputs": [
        {
          "output_type": "stream",
          "name": "stdout",
          "text": [
            "enter code u\n",
            "unmarried\n"
          ]
        }
      ]
    },
    {
      "cell_type": "code",
      "source": [
        "## question 34\n",
        "## true if anyone is  0 else false\n",
        "def integer(a,b,c):\n",
        "  if a==0 or b==0 or c==0:\n",
        "    return True\n",
        "  else:\n",
        "    return False\n",
        "a=int(input(\"enter first number\"))\n",
        "b=int(input(\"enter second number\"))\n",
        "c=int(input(\"enter third number\"))\n",
        "print(integer(a,b,c))\n",
        "\n"
      ],
      "metadata": {
        "id": "hO4sy1hRG6iu",
        "colab": {
          "base_uri": "https://localhost:8080/"
        },
        "outputId": "3b684c26-28e1-470c-8468-b8843883899c"
      },
      "execution_count": null,
      "outputs": [
        {
          "output_type": "stream",
          "name": "stdout",
          "text": [
            "enter first number5\n",
            "enter second number6\n",
            "enter third number1\n",
            "False\n"
          ]
        }
      ]
    },
    {
      "cell_type": "code",
      "source": [
        "## question 35\n",
        "## true if sorted else false\n",
        "def sorted(a,b,c):\n",
        "  if a<=b<=c:\n",
        "    return True\n",
        "  else:\n",
        "    return False\n",
        "x=int(input(\"enter first number\"))\n",
        "y=int(input(\"enter second number\"))\n",
        "z=int(input(\"enter third number\"))\n",
        "sorted(x,y,z)"
      ],
      "metadata": {
        "id": "le_v8JJtG6gl",
        "colab": {
          "base_uri": "https://localhost:8080/"
        },
        "outputId": "a872b4c4-8edd-4b51-b456-a8211b32566a"
      },
      "execution_count": null,
      "outputs": [
        {
          "name": "stdout",
          "output_type": "stream",
          "text": [
            "enter first number7\n",
            "enter second number8\n",
            "enter third number9\n"
          ]
        },
        {
          "output_type": "execute_result",
          "data": {
            "text/plain": [
              "True"
            ]
          },
          "metadata": {},
          "execution_count": 22
        }
      ]
    },
    {
      "cell_type": "code",
      "source": [
        "## question 36\n",
        "## function that accepts 2 positiver integers and if m<n return num 1 an d n that are divisible by n\n",
        "def divisible(m,n):\n",
        "  if m<n:\n",
        "    m,n=n,m\n",
        "  for i in range(n,m+1):\n",
        "    if i%n==0:\n",
        "      print(i)\n",
        "x=int(input(\"enter first number\"))\n",
        "y=int(input(\"enter second number\"))\n",
        "divisible(x,y)\n",
        "\n",
        "\n"
      ],
      "metadata": {
        "id": "Rwo8sp_kG6eV"
      },
      "execution_count": null,
      "outputs": []
    },
    {
      "cell_type": "code",
      "source": [
        "##  question 37\n",
        "## greet hello name\n",
        "def greet():\n",
        "  print(\"Hello\",name)\n",
        "name=input(\"enter ur name\")\n",
        "greet()\n"
      ],
      "metadata": {
        "id": "ppCL7195G6cW",
        "colab": {
          "base_uri": "https://localhost:8080/"
        },
        "outputId": "49eca635-b0fe-4bcd-ea64-078dc5ad2ef4"
      },
      "execution_count": null,
      "outputs": [
        {
          "output_type": "stream",
          "name": "stdout",
          "text": [
            "enter ur namehatradhdhh\n",
            "Hello hatradhdhh\n"
          ]
        }
      ]
    },
    {
      "cell_type": "code",
      "source": [],
      "metadata": {
        "id": "pz3zOc2gG6Zw"
      },
      "execution_count": null,
      "outputs": []
    },
    {
      "cell_type": "code",
      "source": [],
      "metadata": {
        "id": "2J7vFY8ZG6Xi"
      },
      "execution_count": null,
      "outputs": []
    }
  ]
}