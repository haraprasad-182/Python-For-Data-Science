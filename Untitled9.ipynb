{
  "nbformat": 4,
  "nbformat_minor": 0,
  "metadata": {
    "colab": {
      "provenance": []
    },
    "kernelspec": {
      "name": "python3",
      "display_name": "Python 3"
    },
    "language_info": {
      "name": "python"
    }
  },
  "cells": [
    {
      "cell_type": "code",
      "source": [
        "with open(\"learning_python.txt\", \"w\") as file:\n",
        "    file.write(\"In Python, you can learn about variables.\\n\")\n",
        "    file.write(\"You can also learn about loops.\\n\")\n",
        "    file.write(\"And you can learn about functions.\\n\")\n",
        "\n",
        "print(\"Created 'learning_python.txt' with example content.\")"
      ],
      "metadata": {
        "colab": {
          "base_uri": "https://localhost:8080/"
        },
        "id": "-1AsBmNzGKve",
        "outputId": "af6a0e76-ef10-4861-8cf2-f21b9e67dc89"
      },
      "execution_count": 6,
      "outputs": [
        {
          "output_type": "stream",
          "name": "stdout",
          "text": [
            "Created 'learning_python.txt' with example content.\n"
          ]
        }
      ]
    },
    {
      "cell_type": "code",
      "execution_count": 4,
      "metadata": {
        "colab": {
          "base_uri": "https://localhost:8080/"
        },
        "id": "rE-fWEX2Ft_t",
        "outputId": "2782893a-4b44-4cbe-f26d-a9fc974fc8b3"
      },
      "outputs": [
        {
          "output_type": "stream",
          "name": "stdout",
          "text": [
            "Reading the entire file:\n",
            "\n",
            "In Python, you can learn about variables.\n",
            "You can also learn about loops.\n",
            "And you can learn about functions.\n",
            "\n",
            "\n",
            "Reading line by line from a list:\n",
            "\n",
            "In Python, you can learn about variables.\n",
            "You can also learn about loops.\n",
            "And you can learn about functions.\n"
          ]
        }
      ],
      "source": [
        "\n",
        "print(\"Reading the entire file:\\n\")\n",
        "with open(\"learning_python.txt\") as file:\n",
        "    contents = file.read()\n",
        "    print(contents)\n",
        "\n",
        "print(\"\\nReading line by line from a list:\\n\")\n",
        "with open(\"learning_python.txt\") as file:\n",
        "    lines = file.readlines()\n",
        "\n",
        "for line in lines:\n",
        "    print(line.strip())"
      ]
    },
    {
      "cell_type": "code",
      "source": [
        "lines = contents.splitlines()\n",
        "for line in lines:\n",
        "    print(line)\n"
      ],
      "metadata": {
        "colab": {
          "base_uri": "https://localhost:8080/"
        },
        "id": "XstDe7dtFwbY",
        "outputId": "c416be2a-dc01-45ce-d017-7e5d751f90d1"
      },
      "execution_count": 7,
      "outputs": [
        {
          "output_type": "stream",
          "name": "stdout",
          "text": [
            "In Python, you can learn about variables.\n",
            "You can also learn about loops.\n",
            "And you can learn about functions.\n"
          ]
        }
      ]
    },
    {
      "cell_type": "code",
      "source": [
        "\n",
        "name = input(\"Please enter your name: \")\n",
        "\n",
        "with open(\"guest.txt\", \"w\") as file:\n",
        "    file.write(name)\n",
        "\n",
        "print(f\"Thank you, {name}. Your name has been recorded in guest.txt.\")\n"
      ],
      "metadata": {
        "colab": {
          "base_uri": "https://localhost:8080/"
        },
        "id": "n7zbrPlPFwXx",
        "outputId": "b0d792c9-0add-4301-b889-841a55ade4f4"
      },
      "execution_count": 9,
      "outputs": [
        {
          "output_type": "stream",
          "name": "stdout",
          "text": [
            "Please enter your name: sshyam\n",
            "Thank you, sshyam. Your name has been recorded in guest.txt.\n"
          ]
        }
      ]
    },
    {
      "cell_type": "code",
      "source": [
        "\n",
        "print(\"Enter 'q' at any time to quit.\\n\")\n",
        "\n",
        "while True:\n",
        "    name = input(\"Please enter your name: \")\n",
        "\n",
        "    if name.lower() == 'q':\n",
        "        print(\"Thank you! All names have been recorded.\")\n",
        "        break\n",
        "\n",
        "    with open(\"guest_book.txt\", \"a\") as file:\n",
        "        file.write(name + \"\\n\")\n",
        "\n",
        "    print(f\"Welcome, {name}! Your name has been added to the guest book.\\n\")"
      ],
      "metadata": {
        "colab": {
          "base_uri": "https://localhost:8080/"
        },
        "id": "ASEvhsgsFwVW",
        "outputId": "d21280a8-358a-453d-f9ef-3ec07c587e62"
      },
      "execution_count": null,
      "outputs": [
        {
          "output_type": "stream",
          "name": "stdout",
          "text": [
            "Enter 'q' at any time to quit.\n",
            "\n"
          ]
        }
      ]
    }
  ]
}